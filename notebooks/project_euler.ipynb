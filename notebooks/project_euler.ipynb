{
 "cells": [
  {
   "cell_type": "markdown",
   "metadata": {},
   "source": [
    "[Multiples of 3 or 5](https://projecteuler.net/problem=001)"
   ]
  },
  {
   "cell_type": "code",
   "execution_count": null,
   "metadata": {},
   "outputs": [],
   "source": [
    "def sum_of_multiples_below(maximum):\n",
    "    \"\"\"Returns the summ of all the multiples of 3 or 5 below the indicated maximum.\n",
    "    \n",
    "    >>> sum_of_multiples_below(10)\n",
    "    23\n",
    "    \"\"\"\n",
    "    sum = 0\n",
    "    for i in range(maximum):\n",
    "        if i % 3 == 0 or i % 5 == 0:\n",
    "            sum += i\n",
    "    return sum\n",
    "\n",
    "import doctest\n",
    "doctest.testmod()\n",
    "\n",
    "print(sum_of_multiples_below(1000))"
   ]
  },
  {
   "cell_type": "markdown",
   "metadata": {},
   "source": [
    "[2: Even Fibonacci Numbers](https://projecteuler.net/problem=002)"
   ]
  },
  {
   "cell_type": "code",
   "execution_count": null,
   "metadata": {},
   "outputs": [],
   "source": [
    "def sum_even_fibs(maximum):\n",
    "    \"\"\"Sum of even-valued terms not exceeding maximum.\n",
    "    \n",
    "    >>> sum_even_fibs(10)\n",
    "    10\n",
    "    >>> sum_even_fibs(50)\n",
    "    44\n",
    "    \"\"\"\n",
    "    sum = 0\n",
    "    prev1 = 0\n",
    "    prev2 = 1\n",
    "    while True:\n",
    "        n = prev2 + prev1\n",
    "        if n > maximum: break\n",
    "        prev1 = prev2\n",
    "        prev2 = n\n",
    "        if n % 2 == 0:\n",
    "            sum += n\n",
    "    return sum\n",
    "\n",
    "import doctest\n",
    "doctest.testmod()\n",
    "\n",
    "sum_even_fibs(4_000_000)"
   ]
  },
  {
   "cell_type": "markdown",
   "metadata": {},
   "source": [
    "[3: Largest Prime Factor](https://projecteuler.net/problem=003)"
   ]
  },
  {
   "cell_type": "code",
   "execution_count": 26,
   "metadata": {},
   "outputs": [
    {
     "name": "stdout",
     "output_type": "stream",
     "text": [
      "2639\n",
      "1885\n",
      "1015\n",
      "455\n"
     ]
    },
    {
     "data": {
      "text/plain": [
       "1"
      ]
     },
     "execution_count": 26,
     "metadata": {},
     "output_type": "execute_result"
    }
   ],
   "source": [
    "def is_prime(n):\n",
    "    \"\"\"Return True if n is a prime number.\n",
    "    \n",
    "    >>> is_prime(17)\n",
    "    True\n",
    "    >>> is_prime(21)\n",
    "    False\n",
    "    \"\"\"\n",
    "    for i in range(2, int(n / 2) + 1, 1):\n",
    "        if n % i == 0:\n",
    "            return False\n",
    "    return True\n",
    "\n",
    "def primes():\n",
    "    n = 2\n",
    "    while True:\n",
    "        if is_prime(n): yield n\n",
    "        n += 1\n",
    "\n",
    "def prime_factors(n):\n",
    "    \"\"\"Return a list of the prime factors of n.\n",
    "\n",
    "    >>> prime_factors(13195)\n",
    "    [5, 7, 13, 29]\n",
    "    \"\"\"\n",
    "    factors = []\n",
    "    for i in range(2, int(n/2)):\n",
    "        if n % i == 0 and is_prime(i):\n",
    "            factors.append(i)\n",
    "    return factors\n",
    "\n",
    "def max_prime_factor(n):\n",
    "    \"\"\"Return a list of the prime factors of n.\n",
    "\n",
    "    \"\"\"\n",
    "    if is_prime(n): return n\n",
    "    p = primes()\n",
    "    prime = next(p)\n",
    "    while prime < n:\n",
    "        if n % prime == 0:\n",
    "            fac = int(n / prime)\n",
    "            print(fac)\n",
    "            if is_prime(fac):\n",
    "                return n / prime\n",
    "        prime = next(p)\n",
    "    return 1\n",
    "\n",
    "import doctest\n",
    "doctest.testmod()\n",
    "\n",
    "n = 600851475143\n",
    "is_prime(n)\n",
    "max_prime_factor(13195)\n"
   ]
  },
  {
   "cell_type": "code",
   "execution_count": 18,
   "metadata": {},
   "outputs": [
    {
     "data": {
      "text/plain": [
       "0"
      ]
     },
     "execution_count": 18,
     "metadata": {},
     "output_type": "execute_result"
    }
   ],
   "source": [
    "\n"
   ]
  },
  {
   "cell_type": "code",
   "execution_count": null,
   "metadata": {},
   "outputs": [],
   "source": []
  }
 ],
 "metadata": {
  "kernelspec": {
   "display_name": "Python 3",
   "language": "python",
   "name": "python3"
  },
  "language_info": {
   "codemirror_mode": {
    "name": "ipython",
    "version": 3
   },
   "file_extension": ".py",
   "mimetype": "text/x-python",
   "name": "python",
   "nbconvert_exporter": "python",
   "pygments_lexer": "ipython3",
   "version": "3.10.13"
  }
 },
 "nbformat": 4,
 "nbformat_minor": 2
}
